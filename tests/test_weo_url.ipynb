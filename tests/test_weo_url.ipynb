{
 "cells": [
  {
   "cell_type": "code",
   "execution_count": 11,
   "metadata": {},
   "outputs": [],
   "source": [
    "import pandas as pd\n",
    "import sys\n",
    "\n",
    "sys.path.insert(0, '..') # add parent folder path where lib folder is\n",
    "\n",
    "from weo import dates\n",
    "from weo import dataframe"
   ]
  },
  {
   "cell_type": "code",
   "execution_count": 12,
   "metadata": {},
   "outputs": [
    {
     "name": "stdout",
     "output_type": "stream",
     "text": [
      "weo_2023_1.csv 19.0Mb\n",
      "Downloaded 2023-Apr WEO dataset\n"
     ]
    }
   ],
   "source": [
    "path1, url1 = dates.download(2023, 1)"
   ]
  },
  {
   "cell_type": "code",
   "execution_count": 13,
   "metadata": {},
   "outputs": [
    {
     "data": {
      "text/plain": [
       "'weo_2023_1.csv'"
      ]
     },
     "execution_count": 13,
     "metadata": {},
     "output_type": "execute_result"
    }
   ],
   "source": [
    "path1"
   ]
  },
  {
   "cell_type": "code",
   "execution_count": 14,
   "metadata": {},
   "outputs": [
    {
     "data": {
      "text/plain": [
       "'https://www.imf.org/-/media/Files/Publications/WEO/WEO-Database/2023/WEOApr2023all.xls'"
      ]
     },
     "execution_count": 14,
     "metadata": {},
     "output_type": "execute_result"
    }
   ],
   "source": [
    "url1"
   ]
  },
  {
   "cell_type": "code",
   "execution_count": 15,
   "metadata": {},
   "outputs": [],
   "source": [
    "test_df = dataframe.WEO(path1)"
   ]
  },
  {
   "cell_type": "code",
   "execution_count": 17,
   "metadata": {},
   "outputs": [
    {
     "data": {
      "text/plain": [
       "PeriodIndex(['1980', '1981', '1982', '1983', '1984', '1985', '1986', '1987',\n",
       "             '1988', '1989', '1990', '1991', '1992', '1993', '1994', '1995',\n",
       "             '1996', '1997', '1998', '1999', '2000', '2001', '2002', '2003',\n",
       "             '2004', '2005', '2006', '2007', '2008', '2009', '2010', '2011',\n",
       "             '2012', '2013', '2014', '2015', '2016', '2017', '2018', '2019',\n",
       "             '2020', '2021', '2022', '2023', '2024', '2025', '2026', '2027',\n",
       "             '2028'],\n",
       "            dtype='period[A-DEC]')"
      ]
     },
     "execution_count": 17,
     "metadata": {},
     "output_type": "execute_result"
    }
   ],
   "source": [
    "test_df.daterange"
   ]
  },
  {
   "cell_type": "code",
   "execution_count": 19,
   "metadata": {},
   "outputs": [
    {
     "data": {
      "text/plain": [
       "[('Gross domestic product, constant prices', 'National currency', 'NGDP_R'),\n",
       " ('Gross domestic product, constant prices', 'Percent change', 'NGDP_RPCH'),\n",
       " ('Gross domestic product, current prices', 'National currency', 'NGDP'),\n",
       " ('Gross domestic product, current prices', 'U.S. dollars', 'NGDPD'),\n",
       " ('Gross domestic product, current prices',\n",
       "  'Purchasing power parity; international dollars',\n",
       "  'PPPGDP'),\n",
       " ('Gross domestic product, deflator', 'Index', 'NGDP_D'),\n",
       " ('Gross domestic product per capita, constant prices',\n",
       "  'National currency',\n",
       "  'NGDPRPC'),\n",
       " ('Gross domestic product per capita, constant prices',\n",
       "  'Purchasing power parity; 2017 international dollar',\n",
       "  'NGDPRPPPPC'),\n",
       " ('Gross domestic product per capita, current prices',\n",
       "  'National currency',\n",
       "  'NGDPPC'),\n",
       " ('Gross domestic product per capita, current prices',\n",
       "  'U.S. dollars',\n",
       "  'NGDPDPC'),\n",
       " ('Gross domestic product per capita, current prices',\n",
       "  'Purchasing power parity; international dollars',\n",
       "  'PPPPC'),\n",
       " ('Output gap in percent of potential GDP',\n",
       "  'Percent of potential GDP',\n",
       "  'NGAP_NPGDP'),\n",
       " ('Gross domestic product based on purchasing-power-parity (PPP) share of world total',\n",
       "  'Percent',\n",
       "  'PPPSH'),\n",
       " ('Implied PPP conversion rate',\n",
       "  'National currency per current international dollar',\n",
       "  'PPPEX'),\n",
       " ('Total investment', 'Percent of GDP', 'NID_NGDP'),\n",
       " ('Gross national savings', 'Percent of GDP', 'NGSD_NGDP'),\n",
       " ('Inflation, average consumer prices', 'Index', 'PCPI'),\n",
       " ('Inflation, average consumer prices', 'Percent change', 'PCPIPCH'),\n",
       " ('Inflation, end of period consumer prices', 'Index', 'PCPIE'),\n",
       " ('Inflation, end of period consumer prices', 'Percent change', 'PCPIEPCH'),\n",
       " ('Volume of imports of goods and services', 'Percent change', 'TM_RPCH'),\n",
       " ('Volume of Imports of goods', 'Percent change', 'TMG_RPCH'),\n",
       " ('Volume of exports of goods and services', 'Percent change', 'TX_RPCH'),\n",
       " ('Volume of exports of goods', 'Percent change', 'TXG_RPCH'),\n",
       " ('Unemployment rate', 'Percent of total labor force', 'LUR'),\n",
       " ('Employment', 'Persons', 'LE'),\n",
       " ('Population', 'Persons', 'LP'),\n",
       " ('General government revenue', 'National currency', 'GGR'),\n",
       " ('General government revenue', 'Percent of GDP', 'GGR_NGDP'),\n",
       " ('General government total expenditure', 'National currency', 'GGX'),\n",
       " ('General government total expenditure', 'Percent of GDP', 'GGX_NGDP'),\n",
       " ('General government net lending/borrowing', 'National currency', 'GGXCNL'),\n",
       " ('General government net lending/borrowing', 'Percent of GDP', 'GGXCNL_NGDP'),\n",
       " ('General government structural balance', 'National currency', 'GGSB'),\n",
       " ('General government structural balance',\n",
       "  'Percent of potential GDP',\n",
       "  'GGSB_NPGDP'),\n",
       " ('General government primary net lending/borrowing',\n",
       "  'National currency',\n",
       "  'GGXONLB'),\n",
       " ('General government primary net lending/borrowing',\n",
       "  'Percent of GDP',\n",
       "  'GGXONLB_NGDP'),\n",
       " ('General government net debt', 'National currency', 'GGXWDN'),\n",
       " ('General government net debt', 'Percent of GDP', 'GGXWDN_NGDP'),\n",
       " ('General government gross debt', 'National currency', 'GGXWDG'),\n",
       " ('General government gross debt', 'Percent of GDP', 'GGXWDG_NGDP'),\n",
       " ('Gross domestic product corresponding to fiscal year, current prices',\n",
       "  'National currency',\n",
       "  'NGDP_FY'),\n",
       " ('Current account balance', 'U.S. dollars', 'BCA'),\n",
       " ('Current account balance', 'Percent of GDP', 'BCA_NGDPD')]"
      ]
     },
     "execution_count": 19,
     "metadata": {},
     "output_type": "execute_result"
    }
   ],
   "source": [
    "test_df.variables()"
   ]
  },
  {
   "cell_type": "code",
   "execution_count": null,
   "metadata": {},
   "outputs": [],
   "source": []
  }
 ],
 "metadata": {
  "kernelspec": {
   "display_name": "base",
   "language": "python",
   "name": "python3"
  },
  "language_info": {
   "codemirror_mode": {
    "name": "ipython",
    "version": 3
   },
   "file_extension": ".py",
   "mimetype": "text/x-python",
   "name": "python",
   "nbconvert_exporter": "python",
   "pygments_lexer": "ipython3",
   "version": "3.9.13"
  },
  "orig_nbformat": 4,
  "vscode": {
   "interpreter": {
    "hash": "aff7a52b5f2d25de0542f655ae94d03df318905bab7ee1b8a302eda1e5e7edfb"
   }
  }
 },
 "nbformat": 4,
 "nbformat_minor": 2
}
